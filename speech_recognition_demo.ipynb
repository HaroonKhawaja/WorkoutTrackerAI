{
 "cells": [
  {
   "cell_type": "code",
   "execution_count": 1,
   "id": "68a9b839",
   "metadata": {},
   "outputs": [],
   "source": [
    "from time import time\n",
    "from dotenv import load_dotenv\n",
    "from openai import OpenAI\n",
    "\n",
    "import pyaudio\n",
    "import wave"
   ]
  },
  {
   "cell_type": "code",
   "execution_count": 2,
   "id": "71c1f4f8",
   "metadata": {},
   "outputs": [],
   "source": [
    "load_dotenv()\n",
    "\n",
    "CHUNK = 1024\n",
    "FORMAT = pyaudio.paInt16\n",
    "CHANNELS = 1\n",
    "RATE = 44100\n",
    "\n",
    "def timer(func):\n",
    "    def wrapper(*args, **kwargs):\n",
    "        start_time = time()\n",
    "        result = func(*args, **kwargs)\n",
    "        end_time = time()\n",
    "        print(f'Function {func.__name__!r} executed in {(end_time - start_time):4f}s')\n",
    "        return result\n",
    "    return wrapper"
   ]
  },
  {
   "cell_type": "markdown",
   "id": "117044c9",
   "metadata": {},
   "source": [
    "## **Voice to Text**"
   ]
  },
  {
   "cell_type": "code",
   "execution_count": 3,
   "id": "30f39f32",
   "metadata": {},
   "outputs": [],
   "source": [
    "def record_voice(seconds=5):\n",
    "    p = pyaudio.PyAudio()\n",
    "    try:\n",
    "        stream = p.open(\n",
    "            format=FORMAT,\n",
    "            channels=CHANNELS,\n",
    "            rate=RATE,\n",
    "            input=True,\n",
    "            frames_per_buffer=CHUNK,\n",
    "        )\n",
    "\n",
    "        print(\"Start recording...\")\n",
    "        frames = []\n",
    "        for i in range(int(RATE / CHUNK * seconds)):\n",
    "            data = stream.read(CHUNK)\n",
    "            frames.append(data)\n",
    "\n",
    "        print(\"Recording stopped\")\n",
    "\n",
    "        stream.stop_stream()\n",
    "        stream.close()\n",
    "        p.terminate()\n",
    "\n",
    "        file_name = 'voice_file.wav'\n",
    "        wf = wave.open(file_name, 'wb')\n",
    "        wf.setnchannels(CHANNELS)\n",
    "        wf.setsampwidth(p.get_sample_size(FORMAT))\n",
    "        wf.setframerate(RATE)\n",
    "        wf.writeframes(b''.join(frames))\n",
    "        wf.close()\n",
    "        return file_name\n",
    "    \n",
    "    except OSError as e:\n",
    "        print(e)\n",
    "        p.terminate()\n",
    "        return None\n",
    "        "
   ]
  },
  {
   "cell_type": "code",
   "execution_count": 4,
   "id": "b9270ba5",
   "metadata": {},
   "outputs": [],
   "source": [
    "@timer\n",
    "def transcribe_text(filename):\n",
    "    client = OpenAI()\n",
    "    try:\n",
    "        print(\"Transcribing...\")\n",
    "        with open(filename, 'rb') as audio_file:\n",
    "            transcript = client.audio.transcriptions.create(\n",
    "                model='whisper-1',\n",
    "                file=audio_file,\n",
    "            )\n",
    "        text = transcript.text\n",
    "        print(\"Transcription:\")\n",
    "        print(text)\n",
    "        return text\n",
    "\n",
    "    except Exception as e:\n",
    "        print(f\"Transcription error: {e}\\n\")\n",
    "        return None"
   ]
  },
  {
   "cell_type": "code",
   "execution_count": 5,
   "id": "1fffe55d",
   "metadata": {},
   "outputs": [],
   "source": [
    "def voice_to_text():\n",
    "    while True:\n",
    "        record = input(\"Press r to record or q to quit:\")\n",
    "        record = record.lower()\n",
    "        if record == 'r':\n",
    "            file_name = record_voice()\n",
    "            transcribe_text(file_name)\n",
    "        elif record == 'q':\n",
    "            break\n"
   ]
  },
  {
   "cell_type": "code",
   "execution_count": 6,
   "id": "93a6eee0",
   "metadata": {},
   "outputs": [
    {
     "name": "stdout",
     "output_type": "stream",
     "text": [
      "Start recording...\n",
      "Recording stopped\n",
      "Transcribing...\n",
      "Transcription:\n",
      "Testing, testing, one, two, three, A, B, C.\n",
      "Function 'transcribe_text' executed in 4.413449s\n"
     ]
    }
   ],
   "source": [
    "voice_to_text()"
   ]
  },
  {
   "cell_type": "markdown",
   "id": "81f6ee71",
   "metadata": {},
   "source": [
    "## **AI Agent**"
   ]
  },
  {
   "cell_type": "code",
   "execution_count": 7,
   "id": "c0415520",
   "metadata": {},
   "outputs": [],
   "source": [
    "def load_prompt(prompt_name):\n",
    "    try:\n",
    "        with open(prompt_name, 'r') as f:\n",
    "            return f.read()\n",
    "    except FileNotFoundError:\n",
    "        raise ValueError(\"Incorrect file name\")\n",
    "\n",
    "PROMPT = load_prompt('prompt.txt')"
   ]
  },
  {
   "cell_type": "code",
   "execution_count": 8,
   "id": "6a5d8160",
   "metadata": {},
   "outputs": [],
   "source": [
    "@timer\n",
    "def generate_text_analysis(text, prompt):\n",
    "    client = OpenAI()\n",
    "    completion = client.chat.completions.create(\n",
    "        model='gpt-4o-mini',\n",
    "        messages=[\n",
    "            {'role': 'system', 'content': prompt},\n",
    "            {'role': 'user', 'content': text}\n",
    "        ],\n",
    "        temperature=0.1,\n",
    "        max_tokens=500,\n",
    "    )\n",
    "    return completion.choices[0].message.content"
   ]
  },
  {
   "cell_type": "code",
   "execution_count": null,
   "id": "84eb24e7",
   "metadata": {},
   "outputs": [],
   "source": [
    "def voice_to_text_with_analysis(prompt):\n",
    "    while True:\n",
    "        record = input(\"Press r to record or q to quit:\")\n",
    "        record = record.lower()\n",
    "        if record == 'r':\n",
    "            file_name = record_voice(10)\n",
    "            text = transcribe_text(file_name)\n",
    "            result = generate_text_analysis(text, prompt)\n",
    "\n",
    "            print(\"RESULT:\")\n",
    "            print(result)\n",
    "            print()\n",
    "        elif record == 'q':\n",
    "            break\n"
   ]
  },
  {
   "cell_type": "code",
   "execution_count": null,
   "id": "99c879bd",
   "metadata": {},
   "outputs": [
    {
     "name": "stdout",
     "output_type": "stream",
     "text": [
      "Start recording...\n",
      "Recording stopped\n",
      "Transcribing...\n",
      "Transcription:\n",
      "I did 3 sets of 5 reps for deadlifts with 20 kgs, 30 kgs and 100 kgs.\n",
      "Function 'transcribe_text' executed in 7.942550s\n",
      "Function 'generate_text_analysis' executed in 1.814859s\n",
      "RESULT:\n",
      "{\n",
      "    \"deadlift\": {\n",
      "        \"sets\": 3,\n",
      "        \"reps\": 5,\n",
      "        \"weight\": [\n",
      "            \"20kg\",\n",
      "            \"30kg\",\n",
      "            \"100kg\"\n",
      "        ],\n",
      "        \"notes\": null\n",
      "    }\n",
      "}\n",
      "\n",
      "Start recording...\n",
      "Recording stopped\n",
      "Transcribing...\n",
      "Transcription:\n",
      "I did a 5 by 5 on squats with 3 plates on each side.\n",
      "Function 'transcribe_text' executed in 5.795002s\n",
      "Function 'generate_text_analysis' executed in 2.250908s\n",
      "RESULT:\n",
      "{\n",
      "    \"squats\": {\n",
      "        \"sets\": 5,\n",
      "        \"reps\": 5,\n",
      "        \"weight\": \"315lbs (3 plates each side)\",\n",
      "        \"notes\": null\n",
      "    }\n",
      "}\n",
      "\n"
     ]
    }
   ],
   "source": [
    "voice_to_text_with_analysis(PROMPT)"
   ]
  }
 ],
 "metadata": {
  "kernelspec": {
   "display_name": "Python 3",
   "language": "python",
   "name": "python3"
  },
  "language_info": {
   "codemirror_mode": {
    "name": "ipython",
    "version": 3
   },
   "file_extension": ".py",
   "mimetype": "text/x-python",
   "name": "python",
   "nbconvert_exporter": "python",
   "pygments_lexer": "ipython3",
   "version": "3.11.9"
  }
 },
 "nbformat": 4,
 "nbformat_minor": 5
}
